{
  "nbformat": 4,
  "nbformat_minor": 0,
  "metadata": {
    "colab": {
      "name": " Atividade avaliativa 01 - Introdução à Programação em Python - IFCE.ipynb",
      "provenance": [],
      "collapsed_sections": []
    },
    "kernelspec": {
      "name": "python3",
      "display_name": "Python 3"
    },
    "language_info": {
      "name": "python"
    }
  },
  "cells": [
    {
      "cell_type": "markdown",
      "metadata": {
        "id": "Gxo8nMehsh8d"
      },
      "source": [
        "7 vezes 7\n"
      ]
    },
    {
      "cell_type": "code",
      "metadata": {
        "id": "A-Q7jAm5sqK4"
      },
      "source": [
        "7*7\n"
      ],
      "execution_count": null,
      "outputs": []
    },
    {
      "cell_type": "markdown",
      "metadata": {
        "id": "4RYcgZJ8syVQ"
      },
      "source": [
        "2 elevado a 100\n"
      ]
    },
    {
      "cell_type": "code",
      "metadata": {
        "id": "hgMIgeDQs2rw",
        "colab": {
          "base_uri": "https://localhost:8080/"
        },
        "outputId": "2b3a1436-4707-4bc8-85bc-70d0f21ac757"
      },
      "source": [
        "2**100"
      ],
      "execution_count": 1,
      "outputs": [
        {
          "output_type": "execute_result",
          "data": {
            "text/plain": [
              "1267650600228229401496703205376"
            ]
          },
          "metadata": {},
          "execution_count": 1
        }
      ]
    },
    {
      "cell_type": "markdown",
      "metadata": {
        "id": "-FFsS2w_s8GV"
      },
      "source": [
        "Resto da divisão de 100 por 38"
      ]
    },
    {
      "cell_type": "code",
      "metadata": {
        "id": "C4MXQQQbs83H",
        "outputId": "a97038fa-2335-4bdf-8c85-03d5dd46a7f3",
        "colab": {
          "base_uri": "https://localhost:8080/"
        }
      },
      "source": [
        "100%38"
      ],
      "execution_count": 2,
      "outputs": [
        {
          "output_type": "execute_result",
          "data": {
            "text/plain": [
              "24"
            ]
          },
          "metadata": {},
          "execution_count": 2
        }
      ]
    },
    {
      "cell_type": "code",
      "metadata": {
        "id": "EzRbCWSmaMYa"
      },
      "source": [
        ""
      ],
      "execution_count": null,
      "outputs": []
    }
  ]
}