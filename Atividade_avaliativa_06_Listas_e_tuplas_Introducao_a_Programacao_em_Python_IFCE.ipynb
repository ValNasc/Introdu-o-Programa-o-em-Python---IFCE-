{
  "nbformat": 4,
  "nbformat_minor": 0,
  "metadata": {
    "colab": {
      "name": "Atividade avaliativa 06 - Listas e tuplas.ipynb",
      "provenance": [],
      "collapsed_sections": []
    },
    "kernelspec": {
      "name": "python3",
      "display_name": "Python 3"
    }
  },
  "cells": [
    {
      "cell_type": "markdown",
      "metadata": {
        "id": "jU7XTQLt8L7U"
      },
      "source": [
        "1-)"
      ]
    },
    {
      "cell_type": "markdown",
      "metadata": {
        "id": "vlXhoYyr8RNa"
      },
      "source": [
        "a-)"
      ]
    },
    {
      "cell_type": "code",
      "metadata": {
        "id": "rHX8iZJqEnvd",
        "colab": {
          "base_uri": "https://localhost:8080/"
        },
        "outputId": "88c1d7ba-5ca0-46fa-d4b3-91f74d71555d"
      },
      "source": [
        "#Faça um script para ler 5 valores e armazene eles em uma lista.\n",
        "\n",
        "lista = []\n",
        "for i in range(5):\n",
        "  item = float( input('Digite um valor:'))\n",
        "  lista.append(item)\n",
        "print (lista)"
      ],
      "execution_count": null,
      "outputs": [
        {
          "output_type": "stream",
          "text": [
            "Digite um valor:5\n",
            "Digite um valor:5\n",
            "Digite um valor:6\n",
            "Digite um valor:3\n",
            "Digite um valor:2\n",
            "[5.0, 5.0, 6.0, 3.0, 2.0]\n"
          ],
          "name": "stdout"
        }
      ]
    },
    {
      "cell_type": "markdown",
      "metadata": {
        "id": "K1c5dBNi8TrR"
      },
      "source": [
        "b-)"
      ]
    },
    {
      "cell_type": "code",
      "metadata": {
        "id": "bI4JhCM2VvHT",
        "colab": {
          "base_uri": "https://localhost:8080/"
        },
        "outputId": "47f337cf-9335-4dea-b206-06b8755fd42c"
      },
      "source": [
        "#Imprima o maior valor lido\n",
        "print (max(lista))"
      ],
      "execution_count": null,
      "outputs": [
        {
          "output_type": "stream",
          "text": [
            "5.0\n"
          ],
          "name": "stdout"
        }
      ]
    },
    {
      "cell_type": "markdown",
      "metadata": {
        "id": "L2jX5cXG8WJl"
      },
      "source": [
        "c-)"
      ]
    },
    {
      "cell_type": "code",
      "metadata": {
        "id": "yzaW3zYPWJo9",
        "colab": {
          "base_uri": "https://localhost:8080/"
        },
        "outputId": "db0d5d2a-a191-4b9f-f76a-00188fffa19d"
      },
      "source": [
        "#Imprima o menor valor lido\n",
        "print (min(lista))"
      ],
      "execution_count": null,
      "outputs": [
        {
          "output_type": "stream",
          "text": [
            "1.0\n"
          ],
          "name": "stdout"
        }
      ]
    },
    {
      "cell_type": "markdown",
      "metadata": {
        "id": "rf_A719G8YLZ"
      },
      "source": [
        "d-)"
      ]
    },
    {
      "cell_type": "code",
      "metadata": {
        "id": "15rKQ1i0WqDx",
        "colab": {
          "base_uri": "https://localhost:8080/"
        },
        "outputId": "0d66b09e-c404-4825-cf1f-e4a533c9d6b3"
      },
      "source": [
        "#Imprima a lista na ordem contrária da ordem lida\n",
        "lista.reverse()\n",
        "print (lista)"
      ],
      "execution_count": null,
      "outputs": [
        {
          "output_type": "stream",
          "text": [
            "[1.0, 2.0, 3.0, 4.0, 5.0]\n"
          ],
          "name": "stdout"
        }
      ]
    },
    {
      "cell_type": "markdown",
      "metadata": {
        "id": "RHm-lgYP6tG2"
      },
      "source": [
        "e-)"
      ]
    },
    {
      "cell_type": "code",
      "metadata": {
        "id": "MwYsr9MO63f5",
        "colab": {
          "base_uri": "https://localhost:8080/"
        },
        "outputId": "887bd65e-1576-40b5-9ca0-5227ea216f57"
      },
      "source": [
        "#Imprima a lista em ordem crescente de valores.\n",
        "lista.sort()\n",
        "print (lista)"
      ],
      "execution_count": null,
      "outputs": [
        {
          "output_type": "stream",
          "text": [
            "[1.0, 2.0, 3.0, 4.0, 5.0]\n"
          ],
          "name": "stdout"
        }
      ]
    },
    {
      "cell_type": "markdown",
      "metadata": {
        "id": "R5F9n75T8ty9"
      },
      "source": [
        "f-)"
      ]
    },
    {
      "cell_type": "code",
      "metadata": {
        "id": "Y4vmo8tv8dx7",
        "colab": {
          "base_uri": "https://localhost:8080/"
        },
        "outputId": "10a0e7b7-398c-410a-c84d-cba74231ead6"
      },
      "source": [
        "#Imprima os 2 maiores valores\n",
        "print (lista[-2:])"
      ],
      "execution_count": null,
      "outputs": [
        {
          "output_type": "stream",
          "text": [
            "[4.0, 5.0]\n"
          ],
          "name": "stdout"
        }
      ]
    },
    {
      "cell_type": "markdown",
      "metadata": {
        "id": "BsxCQP8i9JT6"
      },
      "source": [
        "g-)"
      ]
    },
    {
      "cell_type": "code",
      "metadata": {
        "id": "_sL1Uhuf8riP",
        "colab": {
          "base_uri": "https://localhost:8080/"
        },
        "outputId": "b27f4141-3ac9-4699-e7d9-ebc9641eda24"
      },
      "source": [
        "#Imprima os valores dos 3 menores elementos\n",
        "print (lista[0:3])"
      ],
      "execution_count": null,
      "outputs": [
        {
          "output_type": "stream",
          "text": [
            "[1.0, 2.0, 3.0]\n"
          ],
          "name": "stdout"
        }
      ]
    },
    {
      "cell_type": "code",
      "metadata": {
        "id": "vtKmjhRL6m1E"
      },
      "source": [
        ""
      ],
      "execution_count": null,
      "outputs": []
    }
  ]
}