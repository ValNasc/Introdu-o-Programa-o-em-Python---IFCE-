{
  "nbformat": 4,
  "nbformat_minor": 0,
  "metadata": {
    "colab": {
      "name": "Atividade Avaliativa 04 - Estrutura de seleção-Introducao_a_Programacao_em_Python_IFCE.ipynb",
      "provenance": [],
      "collapsed_sections": []
    },
    "kernelspec": {
      "name": "python3",
      "display_name": "Python 3"
    }
  },
  "cells": [
    {
      "cell_type": "code",
      "metadata": {
        "id": "rHX8iZJqEnvd"
      },
      "source": [
        "#Recebe dois valores inteiros do usuário e imprime o valor do maior."
      ],
      "execution_count": null,
      "outputs": []
    },
    {
      "cell_type": "code",
      "metadata": {
        "id": "15rKQ1i0WqDx",
        "colab": {
          "base_uri": "https://localhost:8080/"
        },
        "outputId": "c1db4ea2-d6b8-44f8-9863-c345f1ee601e"
      },
      "source": [
        "#Leia um valor do usuário referente a uma temperatura\n",
        "#SE a temperatura for menor ou igual a 15, imprima a mensagem 'Frio'\n",
        "#SE a temperatura for maior ou igual a 30,  imprima a mensagem 'Quente\n",
        "#SE a temperatura for maior que 15 e menor que 30, imprima a mensagem 'Agradável'\n",
        " \n",
        "Temperatura = float (input ('insira a temperatura: '))\n",
        " \n",
        "if Temperatura <= 15:\n",
        " print ('Frio')\n",
        "elif Temperatura >= 30:\n",
        " print ('Quente')\n",
        "elif Temperatura > 15 and Temperatura < 30:\n",
        " print ('Agradável')"
      ],
      "execution_count": null,
      "outputs": [
        {
          "output_type": "stream",
          "text": [
            "insira a temperatura: 16\n",
            "Agradável\n"
          ],
          "name": "stdout"
        }
      ]
    },
    {
      "cell_type": "code",
      "metadata": {
        "id": "bI4JhCM2VvHT",
        "colab": {
          "base_uri": "https://localhost:8080/"
        },
        "outputId": "56f44612-b0a6-4fc4-c722-ffec84bdbb28"
      },
      "source": [
        "11\n",
        "#Recebe três valores inteiros do usuário e imprime o valor do intermediário.\n",
        "#Exemplo:\n",
        "# 4 2 6 -> 4\n",
        "# 1 5 7 -> 7 \n",
        " \n",
        "a = float (input ('insira o primeiro valor: '))\n",
        "b = float (input ('insira o segundo valor: '))\n",
        "c = float (input ('insira o terceiro valor: '))\n",
        "\n",
        "if a != max (a,b,c) and a != min (a,b,c):\n",
        "  print (a)\n",
        "elif b != max (a,b,c) and b != min (a,b,c):\n",
        "  print (b)\n",
        "else:\n",
        "  print (c)\n",
        "\n",
        "\n",
        "\n"
      ],
      "execution_count": null,
      "outputs": [
        {
          "output_type": "stream",
          "text": [
            "insira o primeiro valor: 20\n",
            "insira o segundo valor: 19\n",
            "insira o terceiro valor: 21\n",
            "20.0\n"
          ],
          "name": "stdout"
        }
      ]
    },
    {
      "cell_type": "code",
      "metadata": {
        "id": "yzaW3zYPWJo9",
        "colab": {
          "base_uri": "https://localhost:8080/"
        },
        "outputId": "687bdf10-6b7a-46c2-810d-00fdaa3ac872"
      },
      "source": [
        "#Leia dois valores N1 e N2 do usuário,\n",
        "#Calcule a média sendo (N1*4 + N2*6)/10 e \n",
        "#SE a média é maior ou igual a 7, o aluno está aprovado\n",
        "#SENÃO SE a média for menor que 4, o aluno está reprovado\n",
        "#SENÃO, o aluno está de avaliação final\n",
        "\n",
        "N1 = float (input ('insira a primeira nota: '))\n",
        "N2 = float (input ('insira a segunda nota\n",
        ": '))\n",
        "Med = (N1*4 + N2*6)/10\n",
        "\n",
        "if Med >= 7:\n",
        "  print ('Média: ',Med,' --> Aprovado')\n",
        "elif Med < 4:\n",
        "  print ('Média: ',Med,' --> Reprovado')\n",
        "else:\n",
        "  print ('Média: ',Med,' --> Avaliação Final')\n"
      ],
      "execution_count": null,
      "outputs": [
        {
          "output_type": "stream",
          "text": [
            "insira a primeira nota: 5\n",
            "insira a segunda nota: 9\n",
            "Média:  7.4  --> Aprovado\n"
          ],
          "name": "stdout"
        }
      ]
    }
  ]
}