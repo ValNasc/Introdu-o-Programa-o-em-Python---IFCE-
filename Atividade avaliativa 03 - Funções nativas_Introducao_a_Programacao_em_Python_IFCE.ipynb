{
  "nbformat": 4,
  "nbformat_minor": 0,
  "metadata": {
    "colab": {
      "name": "AtividadeAvaliativa03_Introducao_a_Programacao_em_Python_IFCE.ipynb",
      "provenance": [],
      "collapsed_sections": []
    },
    "kernelspec": {
      "name": "python3",
      "display_name": "Python 3"
    }
  },
  "cells": [
    {
      "cell_type": "code",
      "metadata": {
        "id": "rHX8iZJqEnvd",
        "colab": {
          "base_uri": "https://localhost:8080/"
        },
        "outputId": "eb250859-855a-49cc-ea52-efcb779b89af"
      },
      "source": [
        "#Receba três valores do usuário e imprima a diferença do maior valor pelo menor valor.\n",
        "\n",
        "a = float (input())\n",
        "b = float (input())\n",
        "c = float (input())\n",
        "maior = max(a,b,c)\n",
        "menor = min(a,b,c)\n",
        "\n",
        "print ('A diferença entre o número maior e o menor é:',maior-menor)"
      ],
      "execution_count": null,
      "outputs": [
        {
          "output_type": "stream",
          "text": [
            "50\n",
            "10\n",
            "20\n",
            "A diferença entre os maior e o menor é: 40.0\n"
          ],
          "name": "stdout"
        }
      ]
    },
    {
      "cell_type": "code",
      "metadata": {
        "id": "bI4JhCM2VvHT",
        "colab": {
          "base_uri": "https://localhost:8080/"
        },
        "outputId": "e62ef6f8-d31b-47af-814e-fffd9b1dfddc"
      },
      "source": [
        "#Leia 3 valores, no caso, variáveis A, B e C, que são as três notas de um aluno. A seguir, calcule a média do aluno, \n",
        "#sabendo que a nota A tem peso 2, a nota B tem peso 3 e a nota C tem peso 5.\n",
        "\n",
        "A = float (input('Nota Matemática: '))*2\n",
        "B = float (input('Nota Português: '))*3\n",
        "C = float (input('Nota Biologia: '))*5\n",
        "\n",
        "Media = (A+B+C)/10\n",
        "\n",
        "print (Media)\n",
        "\n"
      ],
      "execution_count": null,
      "outputs": [
        {
          "output_type": "stream",
          "text": [
            "Nota Matemática: 8\n",
            "Nota Português: 7\n",
            "Nota Biologia: 3\n",
            "5.2\n"
          ],
          "name": "stdout"
        }
      ]
    },
    {
      "cell_type": "code",
      "metadata": {
        "id": "yzaW3zYPWJo9",
        "colab": {
          "base_uri": "https://localhost:8080/"
        },
        "outputId": "1fe7f892-8ebc-4014-d359-c1edcb82d239"
      },
      "source": [
        "#Leia dois valores N1 e N2 do usuário, imprima o resultado a expressão (N1*6 + N2*4)/10, arredondado para duas casas decimais.\n",
        "\n",
        "N1 = float(input())\n",
        "N2 = float(input())\n",
        "\n",
        "print (round((N1*6 + N2*4)/10,2))"
      ],
      "execution_count": null,
      "outputs": [
        {
          "output_type": "stream",
          "text": [
            "1.23551\n",
            "156.3666\n",
            "63.29\n"
          ],
          "name": "stdout"
        }
      ]
    },
    {
      "cell_type": "code",
      "metadata": {
        "id": "15rKQ1i0WqDx",
        "colab": {
          "base_uri": "https://localhost:8080/"
        },
        "outputId": "55b856bc-11c8-4c14-87c2-806cb3da014b"
      },
      "source": [
        "#Leia um valor representando uma primeira posição em km.\n",
        "#Leia um valor representando uma segunda posição em km.\n",
        "#Imprima a diferença absoluta entre as posição.\n",
        "#Exemplo: primeira=10, segunda=20, diferença=10.\n",
        "#Exemplo: primeira=30, segunda=5, diferença=25.\n",
        "\n",
        "V1 = float(input())\n",
        "V2 = float (input())\n",
        "\n",
        "ma = max(V1,V2)\n",
        "me = min(V1,V2)\n",
        "\n",
        "print (ma-me)"
      ],
      "execution_count": null,
      "outputs": [
        {
          "output_type": "stream",
          "text": [
            "30\n",
            "5\n",
            "25.0\n"
          ],
          "name": "stdout"
        }
      ]
    }
  ]
}