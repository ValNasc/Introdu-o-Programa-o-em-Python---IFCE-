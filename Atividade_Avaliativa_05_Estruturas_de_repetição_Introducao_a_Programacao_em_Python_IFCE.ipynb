{
  "nbformat": 4,
  "nbformat_minor": 0,
  "metadata": {
    "colab": {
      "name": " Atividade Avaliativa 05 - Estruturas de repetição.ipynb",
      "provenance": [],
      "collapsed_sections": []
    },
    "kernelspec": {
      "name": "python3",
      "display_name": "Python 3"
    }
  },
  "cells": [
    {
      "cell_type": "code",
      "metadata": {
        "id": "yzaW3zYPWJo9",
        "colab": {
          "base_uri": "https://localhost:8080/"
        },
        "outputId": "caeb3ad0-3bee-467d-aec3-461bdcc29916"
      },
      "source": [
        "#Utilizando a estrutura WHILE,\n",
        "#Faça um script que peça valores para o usuário até que ele digite o valor 0\n",
        "\n",
        "valor = 1\n",
        "\n",
        "while valor != 0:\n",
        "  valor = int (input('digite 0 para sair'))\n",
        "print ('Fim!')\n",
        "  \n"
      ],
      "execution_count": null,
      "outputs": [
        {
          "output_type": "stream",
          "text": [
            "digite 0 para sair10\n",
            "digite 0 para sair2\n",
            "digite 0 para sair3\n",
            "digite 0 para sair5\n",
            "digite 0 para sair0\n",
            "Fim!\n"
          ],
          "name": "stdout"
        }
      ]
    },
    {
      "cell_type": "code",
      "metadata": {
        "id": "rHX8iZJqEnvd",
        "colab": {
          "base_uri": "https://localhost:8080/"
        },
        "outputId": "da208d90-f7cb-4f98-94dd-8420fd53f549"
      },
      "source": [
        "L = [4,6,4,3,2,6,7,-1,-6, 10,6,8]\n",
        "#Utilizando a função MIN, MAX e SUM, imprima\n",
        "#O menor elemento da lista,\n",
        "#o maior elemento da lista,\n",
        "#a soma dos elementos da lista,\n",
        "\n",
        "print ('Maior valor:',max(L),'\\nMenor valor:',min(L),'\\nSoma:',sum(L), end='')"
      ],
      "execution_count": null,
      "outputs": [
        {
          "output_type": "stream",
          "text": [
            "Maior valor: 10 \n",
            "Menor valor: -6 \n",
            "Soma: 49"
          ],
          "name": "stdout"
        }
      ]
    },
    {
      "cell_type": "code",
      "metadata": {
        "id": "bI4JhCM2VvHT",
        "colab": {
          "base_uri": "https://localhost:8080/"
        },
        "outputId": "f2afaa1a-dc18-4348-b1bd-eff547f01239"
      },
      "source": [
        "#Utilizando a estrutura FOR e a função RANGE,\n",
        "#Faça um script que imprima os elementos pares menores que 100\n",
        "\n",
        "for x in range (2,100,2):\n",
        "  print (x, end=' ')"
      ],
      "execution_count": null,
      "outputs": [
        {
          "output_type": "stream",
          "text": [
            "2 4 6 8 10 12 14 16 18 20 22 24 26 28 30 32 34 36 38 40 42 44 46 48 50 52 54 56 58 60 62 64 66 68 70 72 74 76 78 80 82 84 86 88 90 92 94 96 98 "
          ],
          "name": "stdout"
        }
      ]
    },
    {
      "cell_type": "code",
      "metadata": {
        "id": "15rKQ1i0WqDx",
        "colab": {
          "base_uri": "https://localhost:8080/"
        },
        "outputId": "d652554b-6fca-4ab4-d9fe-e00a7a226631"
      },
      "source": [
        "#Utilizando a estrutura FOR e a função RANGE\n",
        "#Faça um script que imprima o quadrado de todos os ímpares menores que 100\n",
        "# 1*1 = 1\n",
        "# 3*3 = 9\n",
        "# 5*5 = 25\n",
        "# ...\n",
        "\n",
        "for x in range (1,100,2):\n",
        "  print ((x**2), end=' ')"
      ],
      "execution_count": null,
      "outputs": [
        {
          "output_type": "stream",
          "text": [
            "1 9 25 49 81 121 169 225 289 361 441 529 625 729 841 961 1089 1225 1369 1521 1681 1849 2025 2209 2401 2601 2809 3025 3249 3481 3721 3969 4225 4489 4761 5041 5329 5625 5929 6241 6561 6889 7225 7569 7921 8281 8649 9025 9409 9801 "
          ],
          "name": "stdout"
        }
      ]
    }
  ]
}