{
  "nbformat": 4,
  "nbformat_minor": 0,
  "metadata": {
    "colab": {
      "name": "atividade_avaliativa_02_Introducao_a_Programacao_em_Python_IFCE.ipynb",
      "provenance": [],
      "collapsed_sections": []
    },
    "kernelspec": {
      "name": "python3",
      "display_name": "Python 3"
    },
    "language_info": {
      "name": "python"
    }
  },
  "cells": [
    {
      "cell_type": "markdown",
      "metadata": {
        "id": "UVZgk2j3xKHu"
      },
      "source": [
        "Substitua os comentários por trechos de códigos correspondentes"
      ]
    },
    {
      "cell_type": "code",
      "metadata": {
        "id": "NovX90-oq6AT",
        "outputId": "cb7a9797-1c85-451d-c979-21359b88b569",
        "colab": {
          "base_uri": "https://localhost:8080/"
        }
      },
      "source": [
        "X = 12345678\n",
        "X - 12345672\n",
        "# Expressão matemática utilizando o X que tem valor igual ao algarismo das centenas"
      ],
      "execution_count": null,
      "outputs": [
        {
          "output_type": "execute_result",
          "data": {
            "text/plain": [
              "6"
            ]
          },
          "metadata": {
            "tags": []
          },
          "execution_count": 10
        }
      ]
    },
    {
      "cell_type": "code",
      "metadata": {
        "id": "r52v0QtrryHD",
        "outputId": "b10f85f0-a304-4cc5-853a-a22ade838d7f",
        "colab": {
          "base_uri": "https://localhost:8080/"
        }
      },
      "source": [
        "valorDeUmaPera = 3\n",
        "meuDinheiro = 20\n",
        "(meuDinheiro + 10) / valorDeUmaPera\n",
        "#Expressão matemática que representa a quantidade de peras que poderia comprar caso tivesse 10 reais a mais"
      ],
      "execution_count": null,
      "outputs": [
        {
          "output_type": "execute_result",
          "data": {
            "text/plain": [
              "10.0"
            ]
          },
          "metadata": {
            "tags": []
          },
          "execution_count": 4
        }
      ]
    },
    {
      "cell_type": "code",
      "metadata": {
        "id": "iBFzbIAQr9Va",
        "outputId": "9c56a235-d8a8-474b-b942-4c860a6d2c68",
        "colab": {
          "base_uri": "https://localhost:8080/"
        }
      },
      "source": [
        "(((meuDinheiro + 10) / valorDeUmaPera)*valorDeUmaPera) - (meuDinheiro + 10)\n",
        "#Expressão que representa o troco na compra das peras caso tivesse 10 reais a mais"
      ],
      "execution_count": null,
      "outputs": [
        {
          "output_type": "execute_result",
          "data": {
            "text/plain": [
              "0.0"
            ]
          },
          "metadata": {
            "tags": []
          },
          "execution_count": 14
        }
      ]
    },
    {
      "cell_type": "code",
      "metadata": {
        "id": "fCSXRnsAsBt1",
        "outputId": "6d040701-eba5-4498-c2a2-d1bcba7c5d2c",
        "colab": {
          "base_uri": "https://localhost:8080/"
        }
      },
      "source": [
        "N1 = 10\n",
        "N2 = 9\n",
        "(N1*10+N2*5)/2\n",
        "#Atribua uma nota à variável N1\n",
        "#Atribua uma nota à variável N2\n",
        "#Expressão que representa a média das notas, sendo que N1 tem peso 10 e N2 tem peso 5"
      ],
      "execution_count": null,
      "outputs": [
        {
          "output_type": "execute_result",
          "data": {
            "text/plain": [
              "72.5"
            ]
          },
          "metadata": {
            "tags": []
          },
          "execution_count": 3
        }
      ]
    },
    {
      "cell_type": "code",
      "metadata": {
        "id": "glW7XaIosTHC",
        "outputId": "61ede7d2-f7a2-42ce-d80b-bddac89eb4b4",
        "colab": {
          "base_uri": "https://localhost:8080/"
        }
      },
      "source": [
        "Raio = 10\n",
        "pi = 3.1415\n",
        "2*pi*Raio\n",
        "#Atribua um valor à Raio\n",
        "#Expressão que representa o perímetro do círculo de raio Raio (duas vezes pi vezes Raio)"
      ],
      "execution_count": null,
      "outputs": [
        {
          "output_type": "execute_result",
          "data": {
            "text/plain": [
              "62.830000000000005"
            ]
          },
          "metadata": {
            "tags": []
          },
          "execution_count": 17
        }
      ]
    },
    {
      "cell_type": "code",
      "metadata": {
        "id": "K5VxJBlfsrBF",
        "outputId": "7bf46d56-5386-4049-d5ec-1b40bd3e6263",
        "colab": {
          "base_uri": "https://localhost:8080/"
        }
      },
      "source": [
        "totalDeDias = 800\n",
        "totalDeDias/365\n",
        "#Expressão que representa a quantidade de anos completos em totalDeDias \n",
        "#(Considere que todo ano tem 365 dias)"
      ],
      "execution_count": null,
      "outputs": [
        {
          "output_type": "execute_result",
          "data": {
            "text/plain": [
              "2.191780821917808"
            ]
          },
          "metadata": {
            "tags": []
          },
          "execution_count": 22
        }
      ]
    },
    {
      "cell_type": "code",
      "metadata": {
        "id": "gHSnm7oys5lC",
        "outputId": "e3b1a389-d86c-4f20-c960-9f3597e59d16",
        "colab": {
          "base_uri": "https://localhost:8080/"
        }
      },
      "source": [
        "totalDeDias/30\n",
        "#Expressão que representa a quantidade de meses completos em totalDeDias \n",
        "#(Considere que todo mês tem 30 dias)"
      ],
      "execution_count": null,
      "outputs": [
        {
          "output_type": "execute_result",
          "data": {
            "text/plain": [
              "26.666666666666668"
            ]
          },
          "metadata": {
            "tags": []
          },
          "execution_count": 25
        }
      ]
    },
    {
      "cell_type": "code",
      "metadata": {
        "id": "x3lOxEXps-SW",
        "outputId": "8169e48c-c792-4474-a9df-6ba0a318b286",
        "colab": {
          "base_uri": "https://localhost:8080/",
          "height": 35
        }
      },
      "source": [
        "primeiroNome = 'Val'\n",
        "segundoNome = 'Nascimento'\n",
        "'Sr(a). '+primeiroNome+' '+segundoNome\n",
        "#Atribua seu primeiro nome à primeiroNome\n",
        "#Atribua seu segundo nome à segundoNome\n",
        "#Expressão que representa a concatenação da palavra 'Sr(a).' com a primeiroNome com um espaço em branco e a segundoNome."
      ],
      "execution_count": null,
      "outputs": [
        {
          "output_type": "execute_result",
          "data": {
            "application/vnd.google.colaboratory.intrinsic+json": {
              "type": "string"
            },
            "text/plain": [
              "'Sr(a). Val Nascimento'"
            ]
          },
          "metadata": {
            "tags": []
          },
          "execution_count": 29
        }
      ]
    },
    {
      "cell_type": "code",
      "metadata": {
        "colab": {
          "base_uri": "https://localhost:8080/",
          "height": 35
        },
        "id": "O4boIlk-tTEi",
        "outputId": "92c9c573-351c-40be-b1ee-cc8383e29872"
      },
      "source": [
        "a = 6\n",
        "b = 7\n",
        "c = 9\n",
        "#Atribua valores para a, b e c para que a expressão abaixo  represente 'aaaaaabbbbbbbccccccccc'\n",
        "'a'*a + 'b'*b + 'c'*c"
      ],
      "execution_count": null,
      "outputs": [
        {
          "output_type": "execute_result",
          "data": {
            "application/vnd.google.colaboratory.intrinsic+json": {
              "type": "string"
            },
            "text/plain": [
              "'aaaaaabbbbbbbccccccccc'"
            ]
          },
          "metadata": {
            "tags": []
          },
          "execution_count": 30
        }
      ]
    }
  ]
}