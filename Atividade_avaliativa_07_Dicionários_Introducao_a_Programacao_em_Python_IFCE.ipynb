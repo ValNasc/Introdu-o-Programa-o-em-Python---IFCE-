{
  "nbformat": 4,
  "nbformat_minor": 0,
  "metadata": {
    "colab": {
      "name": " Atividade avaliativa 07 - Dicionários.ipynb",
      "provenance": [],
      "collapsed_sections": []
    },
    "kernelspec": {
      "name": "python3",
      "display_name": "Python 3"
    }
  },
  "cells": [
    {
      "cell_type": "code",
      "metadata": {
        "id": "rHX8iZJqEnvd",
        "colab": {
          "base_uri": "https://localhost:8080/"
        },
        "outputId": "d3f39528-764c-4f6c-dfd0-c7aba70b1703"
      },
      "source": [
        "# Crie um dicionário jogador, com as chaves: nome, esporte, idade.\n",
        "# Ex: nome: Ronaldo, esporte: Futebol, idade: 35\n",
        "\n",
        "jogador = {\n",
        "    'nome' : 'Ronaldo',\n",
        "    'esporte' : 'Futebol',\n",
        "    'idade' : 35,\n",
        "}\n",
        "\n",
        "print (jogador)"
      ],
      "execution_count": null,
      "outputs": [
        {
          "output_type": "stream",
          "text": [
            "{'nome': 'Ronaldo', 'esporte': 'Futebol', 'idade': 35}\n"
          ],
          "name": "stdout"
        }
      ]
    },
    {
      "cell_type": "code",
      "metadata": {
        "id": "bI4JhCM2VvHT",
        "colab": {
          "base_uri": "https://localhost:8080/"
        },
        "outputId": "a3b67f00-847f-43b7-8236-e64ed6e98024"
      },
      "source": [
        "#Adicione uma chave 'país', e seu respectivo valor, \n",
        "# no dicionário criado no exercício anterior\n",
        "# e imprima o dicionário.\n",
        "jogador = {\n",
        "    'nome' : 'Ronaldo',\n",
        "    'esporte' : 'Futebol',\n",
        "    'idade' : 35,\n",
        "}\n",
        "\n",
        "jogador ['país'] = 'Brasil'\n",
        "print (jogador)"
      ],
      "execution_count": null,
      "outputs": [
        {
          "output_type": "stream",
          "text": [
            "{'nome': 'Ronaldo', 'esporte': 'Futebol', 'idade': 35, 'país': 'Brasil'}\n"
          ],
          "name": "stdout"
        }
      ]
    },
    {
      "cell_type": "code",
      "metadata": {
        "id": "yzaW3zYPWJo9",
        "colab": {
          "base_uri": "https://localhost:8080/"
        },
        "outputId": "aa932e19-e3c3-4916-9882-f2e34886cac7"
      },
      "source": [
        "#Altere o valor da chave 'país' para 'desconhecido' \n",
        "# no dicionário criado no exercício anterior\n",
        "# e imprima o dicionário.\n",
        "jogador ['pais'] = 'desconhecido'\n",
        "\n",
        "print (jogador)"
      ],
      "execution_count": null,
      "outputs": [
        {
          "output_type": "stream",
          "text": [
            "{'nome': 'Ronaldo', 'esporte': 'Futebol', 'idade': 35, 'país': 'Brasil', 'pais': 'desconhecido'}\n"
          ],
          "name": "stdout"
        }
      ]
    },
    {
      "cell_type": "code",
      "metadata": {
        "id": "15rKQ1i0WqDx",
        "colab": {
          "base_uri": "https://localhost:8080/"
        },
        "outputId": "e8a23974-d173-4967-b1da-b0f5600baf86"
      },
      "source": [
        "#Remova as chaves 'nome' e 'idade',\n",
        "# no dicionário criado no exercício anterior\n",
        "# e imprima o dicionário.\n",
        "jogador = {\n",
        "    'nome' : 'Ronaldo',\n",
        "    'esporte' : 'Futebol',\n",
        "    'idade' : 35,\n",
        "}\n",
        "\n",
        "jogador ['país'] = 'Brasil'\n",
        "\n",
        "del jogador['nome']\n",
        "\n",
        "print (jogador)"
      ],
      "execution_count": null,
      "outputs": [
        {
          "output_type": "stream",
          "text": [
            "{'esporte': 'Futebol', 'idade': 35, 'país': 'Brasil'}\n"
          ],
          "name": "stdout"
        }
      ]
    },
    {
      "cell_type": "code",
      "metadata": {
        "id": "4qt8bNvk3Lir"
      },
      "source": [
        ""
      ],
      "execution_count": null,
      "outputs": []
    }
  ]
}